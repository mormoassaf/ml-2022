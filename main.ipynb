{
 "cells": [
  {
   "cell_type": "code",
   "execution_count": 5,
   "metadata": {},
   "outputs": [],
   "source": [
    "import numpy as np\n",
    "import pandas as pd\n",
    "import matplotlib.pyplot as plt\n",
    "import glob\n",
    "from random import random\n",
    "from glob import glob"
   ]
  },
  {
   "cell_type": "markdown",
   "metadata": {},
   "source": [
    "## Data exploration"
   ]
  },
  {
   "cell_type": "code",
   "execution_count": 6,
   "metadata": {},
   "outputs": [
    {
     "data": {
      "text/html": [
       "<div>\n",
       "<style scoped>\n",
       "    .dataframe tbody tr th:only-of-type {\n",
       "        vertical-align: middle;\n",
       "    }\n",
       "\n",
       "    .dataframe tbody tr th {\n",
       "        vertical-align: top;\n",
       "    }\n",
       "\n",
       "    .dataframe thead th {\n",
       "        text-align: right;\n",
       "    }\n",
       "</style>\n",
       "<table border=\"1\" class=\"dataframe\">\n",
       "  <thead>\n",
       "    <tr style=\"text-align: right;\">\n",
       "      <th></th>\n",
       "      <th>suite_id</th>\n",
       "      <th>sample_id</th>\n",
       "      <th>code</th>\n",
       "      <th>value</th>\n",
       "      <th>character</th>\n",
       "    </tr>\n",
       "  </thead>\n",
       "  <tbody>\n",
       "    <tr>\n",
       "      <th>0</th>\n",
       "      <td>1</td>\n",
       "      <td>1</td>\n",
       "      <td>10</td>\n",
       "      <td>9</td>\n",
       "      <td>九</td>\n",
       "    </tr>\n",
       "    <tr>\n",
       "      <th>1</th>\n",
       "      <td>1</td>\n",
       "      <td>10</td>\n",
       "      <td>10</td>\n",
       "      <td>9</td>\n",
       "      <td>九</td>\n",
       "    </tr>\n",
       "    <tr>\n",
       "      <th>2</th>\n",
       "      <td>1</td>\n",
       "      <td>2</td>\n",
       "      <td>10</td>\n",
       "      <td>9</td>\n",
       "      <td>九</td>\n",
       "    </tr>\n",
       "    <tr>\n",
       "      <th>3</th>\n",
       "      <td>1</td>\n",
       "      <td>3</td>\n",
       "      <td>10</td>\n",
       "      <td>9</td>\n",
       "      <td>九</td>\n",
       "    </tr>\n",
       "    <tr>\n",
       "      <th>4</th>\n",
       "      <td>1</td>\n",
       "      <td>4</td>\n",
       "      <td>10</td>\n",
       "      <td>9</td>\n",
       "      <td>九</td>\n",
       "    </tr>\n",
       "  </tbody>\n",
       "</table>\n",
       "</div>"
      ],
      "text/plain": [
       "   suite_id  sample_id  code  value character\n",
       "0         1          1    10      9         九\n",
       "1         1         10    10      9         九\n",
       "2         1          2    10      9         九\n",
       "3         1          3    10      9         九\n",
       "4         1          4    10      9         九"
      ]
     },
     "execution_count": 6,
     "metadata": {},
     "output_type": "execute_result"
    }
   ],
   "source": [
    "df = pd.read_csv(\"./datasets/chinesemnist/chinese_mnist.csv\")\n",
    "df.head()"
   ]
  },
  {
   "cell_type": "code",
   "execution_count": 7,
   "metadata": {},
   "outputs": [
    {
     "name": "stdout",
     "output_type": "stream",
     "text": [
      "12000 1500 1500\n"
     ]
    }
   ],
   "source": [
    "paths = glob(\"./datasets/chinesemnist/data/data/*.jpg\")\n",
    "# Shuffle paths\n",
    "paths = np.random.permutation(paths)\n",
    "# Split into train, validation, and test with 80%, 10%, 10% split\n",
    "train_paths = paths[:int(len(paths)*0.8)]\n",
    "val_paths = paths[int(len(paths)*0.8):int(len(paths)*0.9)]\n",
    "test_paths = paths[int(len(paths)*0.9):]\n",
    "print(len(train_paths), len(val_paths), len(test_paths))"
   ]
  },
  {
   "cell_type": "code",
   "execution_count": 8,
   "metadata": {},
   "outputs": [
    {
     "name": "stdout",
     "output_type": "stream",
     "text": [
      "(12000, 64, 64) (1500, 64, 64) (1500, 64, 64)\n"
     ]
    }
   ],
   "source": [
    "def load_images(paths):\n",
    "    images = []\n",
    "    ids = []\n",
    "    for path in paths:\n",
    "        char_idx = int(path.split(\"_\")[-1][:-4])\n",
    "        images.append(plt.imread(path))\n",
    "        ids.append(char_idx)\n",
    "    return np.array(images), ids\n",
    "\n",
    "train_images, train_ids = load_images(train_paths)\n",
    "val_images, val_ids = load_images(val_paths)\n",
    "test_images, test_ids = load_images(test_paths)\n",
    "print(train_images.shape, val_images.shape, test_images.shape)"
   ]
  },
  {
   "cell_type": "markdown",
   "metadata": {},
   "source": [
    "Now we have a dataset \n",
    "$$\n",
    "(X_{i...N_{train/test/val}}, Y_{i...N_{train/test/val}})\n",
    "$$ \n",
    "Where $X_{train_i} \\in \\mathbb{R^{64 \\times 64}}$ is a train image example of dimensions 64 by 64 pixels. and $Y_i \\in \\mathbb{Z}$ represents the character index "
   ]
  },
  {
   "cell_type": "code",
   "execution_count": 9,
   "metadata": {},
   "outputs": [
    {
     "data": {
      "image/png": "[encoded data removed]",
      "text/plain": [
       "<Figure size 720x720 with 7 Axes>"
      ]
     },
     "metadata": {
      "needs_background": "light"
     },
     "output_type": "display_data"
    }
   ],
   "source": [
    "nsamples = 7\n",
    "for i in range(nsamples):\n",
    "    plt.subplot(1, nsamples, i+1).imshow(train_images[i], cmap=\"gray\")\n",
    "    plt.subplot(1, nsamples, i+1).set_title(f\"charid = {train_ids[i]}\")\n",
    "    plt.axis(\"off\")\n",
    "plt.gcf().set_size_inches(10, 10)\n",
    "plt.show()"
   ]
  },
  {
   "cell_type": "markdown",
   "metadata": {},
   "source": [
    "We want to match the images head to head in a fully connected manner such that the new dataset will be pairs of images and a similarity score.\n",
    "$$\n",
    "(X^l_{i...N_{train/test/val} \\times N_{train/test/val}}, X^r_{i...N_{train/test/val} \\times N_{train/test/val}}, Y_{i...N_{train/test/val} \\times N_{train/test/val}})\n",
    "$$\n",
    "Where $X^l_{train_i} \\in \\mathbb{R^{64 \\times 64}}$ is a the left image example of dimensions 64 by 64 pixels. and $Y_i \\in [0..1] \\subset \\mathbb{R}$ represents the similarity score"
   ]
  },
  {
   "cell_type": "code",
   "execution_count": 202,
   "metadata": {},
   "outputs": [],
   "source": [
    "def indices2similarities(X, Y):\n",
    "    N = len(X)\n",
    "    D = []\n",
    "    for i in range(N):\n",
    "        for j in range(N):\n",
    "            left = X[i]\n",
    "            right = X[j]\n",
    "            score = 1.0 if Y[i] == Y[j] else 0.0\n",
    "            D.append((left, right, score))\n",
    "    return D\n",
    "\n",
    "def get_sim_example(X, Y, i):\n",
    "    N = len(X)**2\n",
    "    if i >= N:\n",
    "        raise ValueError(\"i must be less than len(X)**2\")\n",
    "    row = i // N\n",
    "    col = i % len(X)\n",
    "    left = X[row]\n",
    "    right = X[col]\n",
    "    score = 1.0 if Y[row] == Y[col] else 0.0\n",
    "    return left, right, score\n",
    "    \n",
    "def plot_example_i(X, Y, i):\n",
    "    left, right, score = get_sim_example(X, Y, i)\n",
    "    plt.subplot(1, 2, 1).imshow(left, cmap=\"gray\")\n",
    "    plt.subplot(1, 2, 2).imshow(right, cmap=\"gray\")\n",
    "    plt.title(f\"match={score==1}, sample={i}\")\n",
    "    plt.axis(\"off\")"
   ]
  },
  {
   "cell_type": "code",
   "execution_count": 214,
   "metadata": {},
   "outputs": [
    {
     "data": {
      "image/png": "[encoded data removed]",
      "text/plain": [
       "<Figure size 432x288 with 2 Axes>"
      ]
     },
     "metadata": {
      "needs_background": "light"
     },
     "output_type": "display_data"
    }
   ],
   "source": [
    "# Get random sample\n",
    "i = np.random.randint(0, len(train_images)**2)\n",
    "plot_example_i(train_images, train_ids, i)"
   ]
  },
  {
   "cell_type": "code",
   "execution_count": null,
   "metadata": {},
   "outputs": [
    {
     "ename": "",
     "evalue": "",
     "output_type": "error",
     "traceback": [
      "\u001b[1;31mThe Kernel crashed while executing code in the the current cell or a previous cell. Please review the code in the cell(s) to identify a possible cause of the failure. Click <a href='https://aka.ms/vscodeJupyterKernelCrash'>here</a> for more info. View Jupyter <a href='command:jupyter.viewOutput'>log</a> for further details."
     ]
    },
    {
     "ename": "",
     "evalue": "",
     "output_type": "error",
     "traceback": [
      "\u001b[1;31mCanceled future for execute_request message before replies were done"
     ]
    }
   ],
   "source": [
    "def pipeline(images, charidxs):\n",
    "    for img in images:\n",
    "        img = img.astype(np.float32)\n",
    "        img = img / 255.0\n",
    "    scoresdataset = indices2similarities(images, charidxs)\n",
    "    return scoresdataset\n",
    "pipeline(train_images, train_ids)"
   ]
  }
 ],
 "metadata": {
  "kernelspec": {
   "display_name": "Python 3.10.2 64-bit",
   "language": "python",
   "name": "python3"
  },
  "language_info": {
   "codemirror_mode": {
    "name": "ipython",
    "version": 3
   },
   "file_extension": ".py",
   "mimetype": "text/x-python",
   "name": "python",
   "nbconvert_exporter": "python",
   "pygments_lexer": "ipython3",
   "version": "3.10.2"
  },
  "orig_nbformat": 4,
  "vscode": {
   "interpreter": {
    "hash": "7e1998ff7f8aa20ada591c520b972326324e5ea05489af9e422744c7c09f6dad"
   }
  }
 },
 "nbformat": 4,
 "nbformat_minor": 2
}
