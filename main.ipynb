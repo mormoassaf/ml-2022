{
 "cells": [
  {
   "cell_type": "code",
   "execution_count": 43,
   "metadata": {},
   "outputs": [
    {
     "name": "stdout",
     "output_type": "stream",
     "text": [
      "The autoreload extension is already loaded. To reload it, use:\n",
      "  %reload_ext autoreload\n"
     ]
    }
   ],
   "source": [
    "%load_ext autoreload\n",
    "%autoreload 2"
   ]
  },
  {
   "cell_type": "code",
   "execution_count": 44,
   "metadata": {},
   "outputs": [],
   "source": [
    "import numpy as np\n",
    "import pandas as pd\n",
    "import matplotlib.pyplot as plt\n",
    "import glob\n",
    "from random import random\n",
    "from glob import glob\n",
    "from torch.utils.data import Dataset, DataLoader\n",
    "import torch"
   ]
  },
  {
   "cell_type": "markdown",
   "metadata": {},
   "source": [
    "## Data exploration"
   ]
  },
  {
   "cell_type": "code",
   "execution_count": 45,
   "metadata": {},
   "outputs": [
    {
     "data": {
      "text/html": [
       "<div>\n",
       "<style scoped>\n",
       "    .dataframe tbody tr th:only-of-type {\n",
       "        vertical-align: middle;\n",
       "    }\n",
       "\n",
       "    .dataframe tbody tr th {\n",
       "        vertical-align: top;\n",
       "    }\n",
       "\n",
       "    .dataframe thead th {\n",
       "        text-align: right;\n",
       "    }\n",
       "</style>\n",
       "<table border=\"1\" class=\"dataframe\">\n",
       "  <thead>\n",
       "    <tr style=\"text-align: right;\">\n",
       "      <th></th>\n",
       "      <th>suite_id</th>\n",
       "      <th>sample_id</th>\n",
       "      <th>code</th>\n",
       "      <th>value</th>\n",
       "      <th>character</th>\n",
       "    </tr>\n",
       "  </thead>\n",
       "  <tbody>\n",
       "    <tr>\n",
       "      <th>0</th>\n",
       "      <td>1</td>\n",
       "      <td>1</td>\n",
       "      <td>10</td>\n",
       "      <td>9</td>\n",
       "      <td>九</td>\n",
       "    </tr>\n",
       "    <tr>\n",
       "      <th>1</th>\n",
       "      <td>1</td>\n",
       "      <td>10</td>\n",
       "      <td>10</td>\n",
       "      <td>9</td>\n",
       "      <td>九</td>\n",
       "    </tr>\n",
       "    <tr>\n",
       "      <th>2</th>\n",
       "      <td>1</td>\n",
       "      <td>2</td>\n",
       "      <td>10</td>\n",
       "      <td>9</td>\n",
       "      <td>九</td>\n",
       "    </tr>\n",
       "    <tr>\n",
       "      <th>3</th>\n",
       "      <td>1</td>\n",
       "      <td>3</td>\n",
       "      <td>10</td>\n",
       "      <td>9</td>\n",
       "      <td>九</td>\n",
       "    </tr>\n",
       "    <tr>\n",
       "      <th>4</th>\n",
       "      <td>1</td>\n",
       "      <td>4</td>\n",
       "      <td>10</td>\n",
       "      <td>9</td>\n",
       "      <td>九</td>\n",
       "    </tr>\n",
       "  </tbody>\n",
       "</table>\n",
       "</div>"
      ],
      "text/plain": [
       "   suite_id  sample_id  code  value character\n",
       "0         1          1    10      9         九\n",
       "1         1         10    10      9         九\n",
       "2         1          2    10      9         九\n",
       "3         1          3    10      9         九\n",
       "4         1          4    10      9         九"
      ]
     },
     "execution_count": 45,
     "metadata": {},
     "output_type": "execute_result"
    }
   ],
   "source": [
    "df = pd.read_csv(\"./datasets/chinesemnist/chinese_mnist.csv\")\n",
    "df.head()"
   ]
  },
  {
   "cell_type": "code",
   "execution_count": 46,
   "metadata": {},
   "outputs": [
    {
     "name": "stdout",
     "output_type": "stream",
     "text": [
      "12000 1500 1500\n"
     ]
    }
   ],
   "source": [
    "paths = glob(\"./datasets/chinesemnist/data/data/*.jpg\")\n",
    "# Shuffle paths\n",
    "paths = np.random.permutation(paths)\n",
    "# Split into train, validation, and test with 80%, 10%, 10% split\n",
    "train_paths = paths[:int(len(paths)*0.8)]\n",
    "val_paths = paths[int(len(paths)*0.8):int(len(paths)*0.9)]\n",
    "test_paths = paths[int(len(paths)*0.9):]\n",
    "print(len(train_paths), len(val_paths), len(test_paths))"
   ]
  },
  {
   "cell_type": "code",
   "execution_count": 47,
   "metadata": {},
   "outputs": [
    {
     "name": "stdout",
     "output_type": "stream",
     "text": [
      "(12000, 64, 64) (1500, 64, 64) (1500, 64, 64)\n"
     ]
    }
   ],
   "source": [
    "def load_images(paths):\n",
    "    images = []\n",
    "    ids = []\n",
    "    for path in paths:\n",
    "        char_idx = int(path.split(\"_\")[-1][:-4])\n",
    "        images.append(plt.imread(path))\n",
    "        ids.append(char_idx)\n",
    "    return np.array(images), ids\n",
    "\n",
    "train_images, train_ids = load_images(train_paths)\n",
    "val_images, val_ids = load_images(val_paths)\n",
    "test_images, test_ids = load_images(test_paths)\n",
    "print(train_images.shape, val_images.shape, test_images.shape)"
   ]
  },
  {
   "cell_type": "markdown",
   "metadata": {},
   "source": [
    "Now we have a dataset \n",
    "$$\n",
    "(X_{i...N_{train/test/val}}, Y_{i...N_{train/test/val}})\n",
    "$$ \n",
    "Where $X_{train_i} \\in \\mathbb{R^{64 \\times 64}}$ is a train image example of dimensions 64 by 64 pixels. and $Y_i \\in \\mathbb{Z}$ represents the character index "
   ]
  },
  {
   "cell_type": "code",
   "execution_count": 48,
   "metadata": {},
   "outputs": [
    {
     "data": {
      "image/png": "[encoded data removed]",
      "text/plain": [
       "<Figure size 720x720 with 7 Axes>"
      ]
     },
     "metadata": {
      "needs_background": "light"
     },
     "output_type": "display_data"
    }
   ],
   "source": [
    "nsamples = 7\n",
    "for i in range(nsamples):\n",
    "    plt.subplot(1, nsamples, i+1).imshow(train_images[i], cmap=\"gray\")\n",
    "    plt.subplot(1, nsamples, i+1).set_title(f\"charid = {train_ids[i]}\")\n",
    "    plt.axis(\"off\")\n",
    "plt.gcf().set_size_inches(10, 10)\n",
    "plt.show()"
   ]
  },
  {
   "cell_type": "markdown",
   "metadata": {},
   "source": [
    "We want to match the images head to head in a fully connected manner such that the new dataset will be pairs of images and a similarity score.\n",
    "$$\n",
    "(X^l_{i...N_{train/test/val} \\times N_{train/test/val}}, X^r_{i...N_{train/test/val} \\times N_{train/test/val}}, Y_{i...N_{train/test/val} \\times N_{train/test/val}})\n",
    "$$\n",
    "Where $X^l_{train_i} \\in \\mathbb{R^{64 \\times 64}}$ is a the left image example of dimensions 64 by 64 pixels. and $Y_i \\in [0..1] \\subset \\mathbb{R}$ represents the similarity score"
   ]
  },
  {
   "cell_type": "code",
   "execution_count": 49,
   "metadata": {},
   "outputs": [],
   "source": [
    "def indices2similarities(X, Y):\n",
    "    N = len(X)\n",
    "    D = []\n",
    "    for i in range(N):\n",
    "        for j in range(N):\n",
    "            left = X[i]\n",
    "            right = X[j]\n",
    "            score = 1.0 if Y[i] == Y[j] else 0.0\n",
    "            D.append((left, right, score))\n",
    "    return D\n",
    "\n",
    "def get_sim_example(X, Y, i):\n",
    "    N = len(X)**2\n",
    "    if i >= N:\n",
    "        raise ValueError(\"i must be less than len(X)**2\")\n",
    "    row = i // N\n",
    "    col = i % len(X)\n",
    "    left = X[row]\n",
    "    right = X[col]\n",
    "    score = 1.0 if Y[row] == Y[col] else 0.0\n",
    "    return left, right, score\n",
    "    \n",
    "def plot_sample(left, right, score):\n",
    "    plt.subplot(1, 2, 1).imshow(left, cmap=\"gray\")\n",
    "    plt.subplot(1, 2, 2).imshow(right, cmap=\"gray\")\n",
    "    plt.title(f\"match={score==1}, sample={i}\")\n",
    "    plt.axis(\"off\")\n",
    "\n",
    "def plot_example_i(X, Y, i):\n",
    "    left, right, score = get_sim_example(X, Y, i)\n",
    "    plot_sample(left, right, score)"
   ]
  },
  {
   "cell_type": "code",
   "execution_count": 50,
   "metadata": {},
   "outputs": [
    {
     "data": {
      "image/png": "[encoded data removed]",
      "text/plain": [
       "<Figure size 432x288 with 2 Axes>"
      ]
     },
     "metadata": {
      "needs_background": "light"
     },
     "output_type": "display_data"
    }
   ],
   "source": [
    "# Get random sample\n",
    "i = np.random.randint(0, len(train_images)**2)\n",
    "plot_example_i(train_images, train_ids, i)"
   ]
  },
  {
   "cell_type": "markdown",
   "metadata": {},
   "source": [
    "**Potential problem**: Since there are $N \\times N$ examples, assuming that image $X_i$ matches with $m$ other samples, then there are $N*m$ matching examples, therefore, the portion of matching examples in the dataset is \n",
    "$$\n",
    "portion = \\frac{N\\cdot m}{N \\times N} = \\frac{m}{N}\n",
    "$$\n",
    "Therefore, you can already see that the portion becomes smaller in an exponential decay maner as $N$ grows, which can create a considerable data imbalance."
   ]
  },
  {
   "cell_type": "markdown",
   "metadata": {},
   "source": [
    "### Creating the datasets\n",
    "Now that we have defined our dataset, we can create a PyTorch dataset that will be used for the later stages of training."
   ]
  },
  {
   "cell_type": "code",
   "execution_count": 51,
   "metadata": {},
   "outputs": [],
   "source": [
    "class ChineseMNISTDataset(Dataset):\n",
    "\n",
    "    def __init__(self, X, Y, transform=None):\n",
    "        self.X = X\n",
    "        self.Y = Y\n",
    "        self.transform = transform\n",
    "    \n",
    "    def __len__(self):\n",
    "        return len(self.X)**2\n",
    "    \n",
    "    def __getitem__(self, index):\n",
    "        N = len(self)\n",
    "        if i >= N:\n",
    "            raise ValueError(\"i must be less than len(X)**2\")\n",
    "        row = i // N\n",
    "        col = i % len(self.X)\n",
    "        left = self.X[row]\n",
    "        right = self.X[col]\n",
    "        left = self.__process_raw_image(left)\n",
    "        right = self.__process_raw_image(right)\n",
    "        score = 1.0 if self.Y[row] == self.Y[col] else 0.0\n",
    "\n",
    "        if self.transform:\n",
    "            left = self.transform(left)\n",
    "            right = self.transform(right)\n",
    "        return left, right, score\n",
    "\n",
    "    def __process_raw_image(self, x):\n",
    "        # Add a channel\n",
    "        x = x.astype(np.float32)\n",
    "        x = np.expand_dims(x, axis=0)\n",
    "        x /= 255.0\n",
    "        return x"
   ]
  },
  {
   "cell_type": "code",
   "execution_count": 52,
   "metadata": {},
   "outputs": [],
   "source": [
    "train_ds = ChineseMNISTDataset(train_images, train_ids)\n",
    "val_ds = ChineseMNISTDataset(val_images, val_ids)\n",
    "test_ds = ChineseMNISTDataset(test_images, test_ids)"
   ]
  },
  {
   "cell_type": "code",
   "execution_count": 53,
   "metadata": {},
   "outputs": [
    {
     "data": {
      "image/png": "[encoded data removed]",
      "text/plain": [
       "<Figure size 432x288 with 2 Axes>"
      ]
     },
     "metadata": {
      "needs_background": "light"
     },
     "output_type": "display_data"
    }
   ],
   "source": [
    "# Get random sample\n",
    "i = np.random.randint(0, len(train_ds))\n",
    "left, right, score = train_ds[i]\n",
    "plot_sample(left[0], right[0], score)"
   ]
  },
  {
   "cell_type": "markdown",
   "metadata": {},
   "source": [
    "## Modelling"
   ]
  },
  {
   "cell_type": "code",
   "execution_count": 54,
   "metadata": {},
   "outputs": [],
   "source": [
    "from model import SiameseNetwork\n",
    "from losses import ContrastiveLoss\n",
    "\n",
    "model = SiameseNetwork()\n",
    "criterion = ContrastiveLoss()\n",
    "optimizer = torch.optim.Adam(model.parameters(), lr=1e-4)"
   ]
  },
  {
   "cell_type": "code",
   "execution_count": 55,
   "metadata": {},
   "outputs": [],
   "source": [
    "N = 100\n",
    "train_loader = DataLoader(train_ds, batch_size=4, shuffle=True)\n",
    "val_loader = DataLoader(val_ds, batch_size=4, shuffle=True)"
   ]
  },
  {
   "cell_type": "code",
   "execution_count": 60,
   "metadata": {},
   "outputs": [
    {
     "name": "stdout",
     "output_type": "stream",
     "text": [
      "Epoch 0, batch 0, batch_loss 0.000\n"
     ]
    },
    {
     "ename": "KeyboardInterrupt",
     "evalue": "",
     "output_type": "error",
     "traceback": [
      "\u001b[0;31m---------------------------------------------------------------------------\u001b[0m",
      "\u001b[0;31mKeyboardInterrupt\u001b[0m                         Traceback (most recent call last)",
      "\u001b[1;32m/Users/moassaf/Documents/Development/Organisations/RUG/Repos/ml-2022/main.ipynb Cell 20\u001b[0m in \u001b[0;36m<module>\u001b[0;34m\u001b[0m\n\u001b[1;32m     <a href='vscode-notebook-cell:/Users/moassaf/Documents/Development/Organisations/RUG/Repos/ml-2022/main.ipynb#X25sZmlsZQ%3D%3D?line=21'>22</a>\u001b[0m \u001b[39mwith\u001b[39;00m torch\u001b[39m.\u001b[39mno_grad():\n\u001b[1;32m     <a href='vscode-notebook-cell:/Users/moassaf/Documents/Development/Organisations/RUG/Repos/ml-2022/main.ipynb#X25sZmlsZQ%3D%3D?line=22'>23</a>\u001b[0m     \u001b[39mfor\u001b[39;00m i, (left, right, score) \u001b[39min\u001b[39;00m \u001b[39menumerate\u001b[39m(val_loader):\n\u001b[0;32m---> <a href='vscode-notebook-cell:/Users/moassaf/Documents/Development/Organisations/RUG/Repos/ml-2022/main.ipynb#X25sZmlsZQ%3D%3D?line=23'>24</a>\u001b[0m         out1, out2 \u001b[39m=\u001b[39m model(left, right)\n\u001b[1;32m     <a href='vscode-notebook-cell:/Users/moassaf/Documents/Development/Organisations/RUG/Repos/ml-2022/main.ipynb#X25sZmlsZQ%3D%3D?line=24'>25</a>\u001b[0m         loss \u001b[39m=\u001b[39m criterion(out1, out2, score)\n\u001b[1;32m     <a href='vscode-notebook-cell:/Users/moassaf/Documents/Development/Organisations/RUG/Repos/ml-2022/main.ipynb#X25sZmlsZQ%3D%3D?line=25'>26</a>\u001b[0m         running_loss \u001b[39m+\u001b[39m\u001b[39m=\u001b[39m loss\u001b[39m.\u001b[39mitem()\n",
      "File \u001b[0;32m/Library/Frameworks/Python.framework/Versions/3.10/lib/python3.10/site-packages/torch/nn/modules/module.py:1110\u001b[0m, in \u001b[0;36mModule._call_impl\u001b[0;34m(self, *input, **kwargs)\u001b[0m\n\u001b[1;32m   1106\u001b[0m \u001b[39m# If we don't have any hooks, we want to skip the rest of the logic in\u001b[39;00m\n\u001b[1;32m   1107\u001b[0m \u001b[39m# this function, and just call forward.\u001b[39;00m\n\u001b[1;32m   1108\u001b[0m \u001b[39mif\u001b[39;00m \u001b[39mnot\u001b[39;00m (\u001b[39mself\u001b[39m\u001b[39m.\u001b[39m_backward_hooks \u001b[39mor\u001b[39;00m \u001b[39mself\u001b[39m\u001b[39m.\u001b[39m_forward_hooks \u001b[39mor\u001b[39;00m \u001b[39mself\u001b[39m\u001b[39m.\u001b[39m_forward_pre_hooks \u001b[39mor\u001b[39;00m _global_backward_hooks\n\u001b[1;32m   1109\u001b[0m         \u001b[39mor\u001b[39;00m _global_forward_hooks \u001b[39mor\u001b[39;00m _global_forward_pre_hooks):\n\u001b[0;32m-> 1110\u001b[0m     \u001b[39mreturn\u001b[39;00m forward_call(\u001b[39m*\u001b[39;49m\u001b[39minput\u001b[39;49m, \u001b[39m*\u001b[39;49m\u001b[39m*\u001b[39;49mkwargs)\n\u001b[1;32m   1111\u001b[0m \u001b[39m# Do not call functions when jit is used\u001b[39;00m\n\u001b[1;32m   1112\u001b[0m full_backward_hooks, non_full_backward_hooks \u001b[39m=\u001b[39m [], []\n",
      "File \u001b[0;32m~/Documents/Development/Organisations/RUG/Repos/ml-2022/model.py:48\u001b[0m, in \u001b[0;36mSiameseNetwork.forward\u001b[0;34m(self, input1, input2)\u001b[0m\n\u001b[1;32m     46\u001b[0m output1 \u001b[39m=\u001b[39m \u001b[39mself\u001b[39m\u001b[39m.\u001b[39mforward_once(input1)\n\u001b[1;32m     47\u001b[0m \u001b[39m# forward pass of input 2\u001b[39;00m\n\u001b[0;32m---> 48\u001b[0m output2 \u001b[39m=\u001b[39m \u001b[39mself\u001b[39;49m\u001b[39m.\u001b[39;49mforward_once(input2)\n\u001b[1;32m     49\u001b[0m \u001b[39mreturn\u001b[39;00m output1, output2\n",
      "File \u001b[0;32m~/Documents/Development/Organisations/RUG/Repos/ml-2022/model.py:40\u001b[0m, in \u001b[0;36mSiameseNetwork.forward_once\u001b[0;34m(self, x)\u001b[0m\n\u001b[1;32m     38\u001b[0m \u001b[39mdef\u001b[39;00m \u001b[39mforward_once\u001b[39m(\u001b[39mself\u001b[39m, x):\n\u001b[1;32m     39\u001b[0m     \u001b[39m# Forward pass\u001b[39;00m\n\u001b[0;32m---> 40\u001b[0m     output \u001b[39m=\u001b[39m \u001b[39mself\u001b[39;49m\u001b[39m.\u001b[39;49mcnn1(x)\n\u001b[1;32m     41\u001b[0m     output \u001b[39m=\u001b[39m \u001b[39mself\u001b[39m\u001b[39m.\u001b[39mfc1(output)\n\u001b[1;32m     42\u001b[0m     \u001b[39mreturn\u001b[39;00m output\n",
      "File \u001b[0;32m/Library/Frameworks/Python.framework/Versions/3.10/lib/python3.10/site-packages/torch/nn/modules/module.py:1110\u001b[0m, in \u001b[0;36mModule._call_impl\u001b[0;34m(self, *input, **kwargs)\u001b[0m\n\u001b[1;32m   1106\u001b[0m \u001b[39m# If we don't have any hooks, we want to skip the rest of the logic in\u001b[39;00m\n\u001b[1;32m   1107\u001b[0m \u001b[39m# this function, and just call forward.\u001b[39;00m\n\u001b[1;32m   1108\u001b[0m \u001b[39mif\u001b[39;00m \u001b[39mnot\u001b[39;00m (\u001b[39mself\u001b[39m\u001b[39m.\u001b[39m_backward_hooks \u001b[39mor\u001b[39;00m \u001b[39mself\u001b[39m\u001b[39m.\u001b[39m_forward_hooks \u001b[39mor\u001b[39;00m \u001b[39mself\u001b[39m\u001b[39m.\u001b[39m_forward_pre_hooks \u001b[39mor\u001b[39;00m _global_backward_hooks\n\u001b[1;32m   1109\u001b[0m         \u001b[39mor\u001b[39;00m _global_forward_hooks \u001b[39mor\u001b[39;00m _global_forward_pre_hooks):\n\u001b[0;32m-> 1110\u001b[0m     \u001b[39mreturn\u001b[39;00m forward_call(\u001b[39m*\u001b[39;49m\u001b[39minput\u001b[39;49m, \u001b[39m*\u001b[39;49m\u001b[39m*\u001b[39;49mkwargs)\n\u001b[1;32m   1111\u001b[0m \u001b[39m# Do not call functions when jit is used\u001b[39;00m\n\u001b[1;32m   1112\u001b[0m full_backward_hooks, non_full_backward_hooks \u001b[39m=\u001b[39m [], []\n",
      "File \u001b[0;32m/Library/Frameworks/Python.framework/Versions/3.10/lib/python3.10/site-packages/torch/nn/modules/container.py:141\u001b[0m, in \u001b[0;36mSequential.forward\u001b[0;34m(self, input)\u001b[0m\n\u001b[1;32m    139\u001b[0m \u001b[39mdef\u001b[39;00m \u001b[39mforward\u001b[39m(\u001b[39mself\u001b[39m, \u001b[39minput\u001b[39m):\n\u001b[1;32m    140\u001b[0m     \u001b[39mfor\u001b[39;00m module \u001b[39min\u001b[39;00m \u001b[39mself\u001b[39m:\n\u001b[0;32m--> 141\u001b[0m         \u001b[39minput\u001b[39m \u001b[39m=\u001b[39m module(\u001b[39minput\u001b[39;49m)\n\u001b[1;32m    142\u001b[0m     \u001b[39mreturn\u001b[39;00m \u001b[39minput\u001b[39m\n",
      "File \u001b[0;32m/Library/Frameworks/Python.framework/Versions/3.10/lib/python3.10/site-packages/torch/nn/modules/module.py:1110\u001b[0m, in \u001b[0;36mModule._call_impl\u001b[0;34m(self, *input, **kwargs)\u001b[0m\n\u001b[1;32m   1106\u001b[0m \u001b[39m# If we don't have any hooks, we want to skip the rest of the logic in\u001b[39;00m\n\u001b[1;32m   1107\u001b[0m \u001b[39m# this function, and just call forward.\u001b[39;00m\n\u001b[1;32m   1108\u001b[0m \u001b[39mif\u001b[39;00m \u001b[39mnot\u001b[39;00m (\u001b[39mself\u001b[39m\u001b[39m.\u001b[39m_backward_hooks \u001b[39mor\u001b[39;00m \u001b[39mself\u001b[39m\u001b[39m.\u001b[39m_forward_hooks \u001b[39mor\u001b[39;00m \u001b[39mself\u001b[39m\u001b[39m.\u001b[39m_forward_pre_hooks \u001b[39mor\u001b[39;00m _global_backward_hooks\n\u001b[1;32m   1109\u001b[0m         \u001b[39mor\u001b[39;00m _global_forward_hooks \u001b[39mor\u001b[39;00m _global_forward_pre_hooks):\n\u001b[0;32m-> 1110\u001b[0m     \u001b[39mreturn\u001b[39;00m forward_call(\u001b[39m*\u001b[39;49m\u001b[39minput\u001b[39;49m, \u001b[39m*\u001b[39;49m\u001b[39m*\u001b[39;49mkwargs)\n\u001b[1;32m   1111\u001b[0m \u001b[39m# Do not call functions when jit is used\u001b[39;00m\n\u001b[1;32m   1112\u001b[0m full_backward_hooks, non_full_backward_hooks \u001b[39m=\u001b[39m [], []\n",
      "File \u001b[0;32m/Library/Frameworks/Python.framework/Versions/3.10/lib/python3.10/site-packages/torch/nn/modules/conv.py:447\u001b[0m, in \u001b[0;36mConv2d.forward\u001b[0;34m(self, input)\u001b[0m\n\u001b[1;32m    446\u001b[0m \u001b[39mdef\u001b[39;00m \u001b[39mforward\u001b[39m(\u001b[39mself\u001b[39m, \u001b[39minput\u001b[39m: Tensor) \u001b[39m-\u001b[39m\u001b[39m>\u001b[39m Tensor:\n\u001b[0;32m--> 447\u001b[0m     \u001b[39mreturn\u001b[39;00m \u001b[39mself\u001b[39;49m\u001b[39m.\u001b[39;49m_conv_forward(\u001b[39minput\u001b[39;49m, \u001b[39mself\u001b[39;49m\u001b[39m.\u001b[39;49mweight, \u001b[39mself\u001b[39;49m\u001b[39m.\u001b[39;49mbias)\n",
      "File \u001b[0;32m/Library/Frameworks/Python.framework/Versions/3.10/lib/python3.10/site-packages/torch/nn/modules/conv.py:443\u001b[0m, in \u001b[0;36mConv2d._conv_forward\u001b[0;34m(self, input, weight, bias)\u001b[0m\n\u001b[1;32m    439\u001b[0m \u001b[39mif\u001b[39;00m \u001b[39mself\u001b[39m\u001b[39m.\u001b[39mpadding_mode \u001b[39m!=\u001b[39m \u001b[39m'\u001b[39m\u001b[39mzeros\u001b[39m\u001b[39m'\u001b[39m:\n\u001b[1;32m    440\u001b[0m     \u001b[39mreturn\u001b[39;00m F\u001b[39m.\u001b[39mconv2d(F\u001b[39m.\u001b[39mpad(\u001b[39minput\u001b[39m, \u001b[39mself\u001b[39m\u001b[39m.\u001b[39m_reversed_padding_repeated_twice, mode\u001b[39m=\u001b[39m\u001b[39mself\u001b[39m\u001b[39m.\u001b[39mpadding_mode),\n\u001b[1;32m    441\u001b[0m                     weight, bias, \u001b[39mself\u001b[39m\u001b[39m.\u001b[39mstride,\n\u001b[1;32m    442\u001b[0m                     _pair(\u001b[39m0\u001b[39m), \u001b[39mself\u001b[39m\u001b[39m.\u001b[39mdilation, \u001b[39mself\u001b[39m\u001b[39m.\u001b[39mgroups)\n\u001b[0;32m--> 443\u001b[0m \u001b[39mreturn\u001b[39;00m F\u001b[39m.\u001b[39;49mconv2d(\u001b[39minput\u001b[39;49m, weight, bias, \u001b[39mself\u001b[39;49m\u001b[39m.\u001b[39;49mstride,\n\u001b[1;32m    444\u001b[0m                 \u001b[39mself\u001b[39;49m\u001b[39m.\u001b[39;49mpadding, \u001b[39mself\u001b[39;49m\u001b[39m.\u001b[39;49mdilation, \u001b[39mself\u001b[39;49m\u001b[39m.\u001b[39;49mgroups)\n",
      "\u001b[0;31mKeyboardInterrupt\u001b[0m: "
     ]
    }
   ],
   "source": [
    "val_losses = []\n",
    "for epoch in range(N):\n",
    "    model.train()\n",
    "    running_batch_loss = 0.0\n",
    "    for i, (left, right, score) in enumerate(train_loader):\n",
    "\n",
    "        optimizer.zero_grad()\n",
    "        out0, out1 = model(left, right)\n",
    "        loss = criterion(out0, out1, score)\n",
    "        running_batch_loss += loss.item()\n",
    "        loss.backward()\n",
    "        optimizer.step()\n",
    "\n",
    "        if i % 10 == 0:\n",
    "            print(f\"Epoch {epoch}, batch {i}, batch_loss {running_batch_loss/10:.3f}\")\n",
    "            running_batch_loss = 0.0\n",
    "            \n",
    "            # Evaluate\n",
    "            model.eval()\n",
    "            running_loss = 0.0\n",
    "            n = 0\n",
    "            with torch.no_grad():\n",
    "                for i, (left, right, score) in enumerate(val_loader):\n",
    "                    out1, out2 = model(left, right)\n",
    "                    loss = criterion(out1, out2, score)\n",
    "                    running_loss += loss.item()\n",
    "                    n += 1\n",
    "            val_losses.append(running_loss/n)\n",
    "            print(f\"epoch:={epoch}, val_loss:={running_loss/n:.3f}\")\n",
    "            model.train()\n",
    "\n"
   ]
  }
 ],
 "metadata": {
  "kernelspec": {
   "display_name": "Python 3.10.2 64-bit",
   "language": "python",
   "name": "python3"
  },
  "language_info": {
   "codemirror_mode": {
    "name": "ipython",
    "version": 3
   },
   "file_extension": ".py",
   "mimetype": "text/x-python",
   "name": "python",
   "nbconvert_exporter": "python",
   "pygments_lexer": "ipython3",
   "version": "3.10.2"
  },
  "orig_nbformat": 4,
  "vscode": {
   "interpreter": {
    "hash": "7e1998ff7f8aa20ada591c520b972326324e5ea05489af9e422744c7c09f6dad"
   }
  }
 },
 "nbformat": 4,
 "nbformat_minor": 2
}
